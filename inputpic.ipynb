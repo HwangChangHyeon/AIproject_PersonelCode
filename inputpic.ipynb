{
 "cells": [
  {
   "cell_type": "code",
   "execution_count": 36,
   "metadata": {},
   "outputs": [
    {
     "name": "stdout",
     "output_type": "stream",
     "text": [
      "변경 전 사이즈는  (648, 1152, 3)\n",
      "변경 전 사이즈는  (648, 1152, 3)\n",
      "변경 전 사이즈는  (648, 1152, 3)\n",
      "변경 후 사이즈는  (232, 239, 3)\n",
      "변경 후 사이즈는  (262, 215, 3)\n",
      "변경 후 사이즈는  (367, 150, 3)\n"
     ]
    }
   ],
   "source": [
    "import numpy as np\n",
    "import cv2 as cv\n",
    "import random\n",
    "\n",
    "class InputPic:\n",
    "    before = None\n",
    "    after = None\n",
    "    \n",
    "    def setimg(self, inputimg):\n",
    "        self.before = cv.imread(inputimg, 4)\n",
    "        self.after = cv.resize(self.before, (random.randint(100,300), random.randint(200,400)))\n",
    "        pass \n",
    "    \n",
    "    def getimg(self):\n",
    "        return self.after\n",
    "    \n",
    "    def saveimg(self):\n",
    "        cv.imwrite(str(random.randint(1000000,2000000)) +\"_resize.PNG\",self.after)\n",
    "        pass\n",
    "\n",
    "    def beforesize(self):\n",
    "        print('변경 전 사이즈는 ', self.before.shape)\n",
    "        pass\n",
    "    \n",
    "    def aftersize(self):\n",
    "        print('변경 후 사이즈는 ', self.after.shape)\n",
    "        pass\n",
    "\n",
    "if __name__ == \"__main__\":\n",
    "    pic=[]\n",
    "    for i in range(0,3):\n",
    "        pic.append(InputPic())\n",
    "        pic[i].setimg(str(i)+'.png')\n",
    "        \n",
    "    for i in range(0,3):\n",
    "        pic[i].saveimg()\n",
    "        \n",
    "    for i in range(0,3):\n",
    "        pic[i].beforesize()\n",
    "        \n",
    "    for i in range(0,3):\n",
    "        pic[i].aftersize()\n",
    "    pass"
   ]
  },
  {
   "cell_type": "code",
   "execution_count": null,
   "metadata": {},
   "outputs": [],
   "source": []
  },
  {
   "cell_type": "code",
   "execution_count": null,
   "metadata": {},
   "outputs": [],
   "source": []
  },
  {
   "cell_type": "code",
   "execution_count": null,
   "metadata": {},
   "outputs": [],
   "source": []
  },
  {
   "cell_type": "code",
   "execution_count": null,
   "metadata": {},
   "outputs": [],
   "source": []
  }
 ],
 "metadata": {
  "kernelspec": {
   "display_name": "Python 3",
   "language": "python",
   "name": "python3"
  },
  "language_info": {
   "codemirror_mode": {
    "name": "ipython",
    "version": 3
   },
   "file_extension": ".py",
   "mimetype": "text/x-python",
   "name": "python",
   "nbconvert_exporter": "python",
   "pygments_lexer": "ipython3",
   "version": "3.7.4"
  }
 },
 "nbformat": 4,
 "nbformat_minor": 2
}
